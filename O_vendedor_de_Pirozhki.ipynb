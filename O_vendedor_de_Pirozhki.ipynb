{
  "nbformat": 4,
  "nbformat_minor": 0,
  "metadata": {
    "colab": {
      "provenance": [],
      "include_colab_link": true
    },
    "kernelspec": {
      "name": "python3",
      "display_name": "Python 3"
    },
    "language_info": {
      "name": "python"
    }
  },
  "cells": [
    {
      "cell_type": "markdown",
      "metadata": {
        "id": "view-in-github",
        "colab_type": "text"
      },
      "source": [
        "<a href=\"https://colab.research.google.com/github/OtavioLira/FIAP-1TIAF/blob/main/O_vendedor_de_Pirozhki.ipynb\" target=\"_parent\"><img src=\"https://colab.research.google.com/assets/colab-badge.svg\" alt=\"Open In Colab\"/></a>"
      ]
    },
    {
      "cell_type": "markdown",
      "source": [
        "# CASE: O vendedor de Pirozhki\n",
        "\n",
        "\n",
        "Vladimir Sidorov desistiu de seu trabalho convencional na KGB e decidiu empreender em 2010 no ramo alimentício. Com suas economias abriu um foodtruck no bairro do Ipiranga – SP especializado na venda de Pirozhki, onde seu grande diferencial era trabalhar com ingredientes importados dando uma qualidade extraordinária ao produto. Após o crescimento das vendas, a modalidade delivery foi implementada para auxiliar a empresa. Vladimir era extremamente popular no bairro, todos o conheciam, mas em 2019 se mudou para um ponto melhor e não tivemos mais notícia. Os últimos dados compartilhados das vendas de Vlad foram disponibilizados antes de sua partida.\n"
      ],
      "metadata": {
        "id": "HXZSC_Ob3Zrd"
      }
    },
    {
      "cell_type": "code",
      "source": [
        "\n",
        "Ano\tvendas\n",
        "2010\t723\n",
        "2011\t814\n",
        "2012\t905\n",
        "2014\t1087\n",
        "2017\t1360\n",
        "2018\t1451\n",
        "2019\t1542\n"
      ],
      "metadata": {
        "id": "H6qSt8nv3de1"
      },
      "execution_count": null,
      "outputs": []
    },
    {
      "cell_type": "markdown",
      "source": [
        "\n",
        "\n",
        "1.   Dado o problema acima, qual o melhor algoritmo para descobrir os dados de 2015?\n",
        "2.   Qual coeficiente angular?\n",
        "3.   Considerando uma perspectiva estatística, qual o total de venda em 2020 (Apresentar valores)?\n",
        "4. Considerando uma perspectiva estatística, qual o total de venda em 2021 (Apresentar valores)?\n",
        "5. Desenvolva um código em python que calcule estatisticamente as vendas em qualquer ano desejado\n",
        "6. Considerando sua opinião, qual o total de venda em 2021?\n",
        "7. Considerando sua opinião, qual o total de venda em 2023?\n",
        "\n"
      ],
      "metadata": {
        "id": "jmbpy-k73f90"
      }
    },
    {
      "cell_type": "code",
      "source": [
        "# Questões 1 e 2\n",
        "import numpy as np\n",
        "from sklearn.linear_model import LinearRegression\n",
        "# Dados\n",
        "anos = np.array([2010, 2011, 2012, 2014, 2017, 2018, 2019])\n",
        "vendas = np.array([723, 814, 905, 1087, 1360, 1451, 1542])\n",
        "\n",
        "# Calculando o coeficiente angular (m) da reta de regressão linear\n",
        "modelo = LinearRegression().fit(anos.reshape(-1, 1), vendas)\n",
        "coef_angular = modelo.coef_[0]\n",
        "\n",
        "# Previsão das vendas em 2015\n",
        "vendas_2015 = modelo.predict(np.array([[2015]]))[0]\n",
        "\n",
        "# Resultados\n",
        "print(f\"Coeficiente Angular (m): {coef_angular}\")\n",
        "print(f\"Vendas em 2015 (Previsão): {vendas_2015}\")"
      ],
      "metadata": {
        "id": "e5-jn6w_KHAh"
      },
      "execution_count": null,
      "outputs": []
    },
    {
      "cell_type": "code",
      "source": [
        "# Questões 3 e  4\n",
        "import numpy as np\n",
        "from sklearn.linear_model import LinearRegression\n",
        "\n",
        "\n",
        "# Previsão das vendas em 2020 (Perspectiva Estatística)\n",
        "vendas_2020 = vendas[-1] + coef_angular\n",
        "\n",
        "# Previsão das vendas em 2021 (Perspectiva Estatística)\n",
        "vendas_2021 = vendas_2020 + coef_angular\n",
        "\n",
        "# Opinião pessoal para prever as vendas em 2021 e 2023\n",
        "# Esses valores são hipotéticos e baseados em sua opinião.\n",
        "vendas_2021_opiniao = 1721  # Exemplo hipotético para 2021.\n",
        "vendas_2023_opiniao = 1906  # Exemplo hipotético para 2023.\n",
        "\n",
        "# Resultados\n",
        "\n",
        "print(f\"Vendas em 2020 (Perspectiva Estatística): {vendas_2020}\")\n",
        "print(f\"Vendas em 2021 (Perspectiva Estatística): {vendas_2021}\")\n",
        "print(f\"Vendas em 2021 (Opinião Pessoal): {vendas_2021_opiniao}\")\n",
        "print(f\"Vendas em 2023 (Opinião Pessoal): {vendas_2023_opiniao}\")\n",
        "\n"
      ],
      "metadata": {
        "id": "qJN9U5jY8Otc",
        "outputId": "699aa6d8-0671-41c7-d066-c520f7c44bfc",
        "colab": {
          "base_uri": "https://localhost:8080/"
        }
      },
      "execution_count": null,
      "outputs": [
        {
          "output_type": "stream",
          "name": "stdout",
          "text": [
            "Coeficiente Angular (m): 91.0\n",
            "Vendas em 2015 (Previsão): 1178.0\n",
            "Vendas em 2020 (Perspectiva Estatística): 1633.0\n",
            "Vendas em 2021 (Perspectiva Estatística): 1724.0\n",
            "Vendas em 2021 (Opinião Pessoal): 1721\n",
            "Vendas em 2023 (Opinião Pessoal): 1906\n"
          ]
        }
      ]
    },
    {
      "cell_type": "code",
      "source": [
        "# Questão 5\n",
        "import numpy as np\n",
        "from sklearn.linear_model import LinearRegression\n",
        "# Dados\n",
        "anos = np.array([2010, 2011, 2012, 2014, 2017, 2018, 2019])\n",
        "vendas = np.array([723, 814, 905, 1087, 1360, 1451, 1542])\n",
        "\n",
        "# Função para calcular as vendas em um ano específico\n",
        "def calcular_vendas_em_ano(ano, anos, vendas):\n",
        "    modelo = LinearRegression().fit(anos.reshape(-1, 1), vendas)\n",
        "    vendas_previstas = modelo.predict(np.array([[ano]]))\n",
        "    return vendas_previstas[0]\n",
        "\n",
        "# Ano desejado para calcular as vendas\n",
        "ano_desejado = 2016  # Substitua pelo ano desejado\n",
        "\n",
        "# Calcular as vendas para o ano desejado\n",
        "vendas_em_ano_desejado = calcular_vendas_em_ano(ano_desejado, anos, vendas)\n",
        "\n",
        "# Resultado\n",
        "print(f\"Vendas em {ano_desejado}: {vendas_em_ano_desejado}\")\n"
      ],
      "metadata": {
        "id": "xxsBWMpt_Qmp",
        "outputId": "d87acdb0-7951-40db-f52d-2a6a5a27fce2",
        "colab": {
          "base_uri": "https://localhost:8080/"
        }
      },
      "execution_count": null,
      "outputs": [
        {
          "output_type": "stream",
          "name": "stdout",
          "text": [
            "Vendas em 2016: 1269.0\n"
          ]
        }
      ]
    },
    {
      "cell_type": "code",
      "source": [
        "# Questão 6 e 7\n",
        "# Opinião pessoal para prever as vendas em 2021 e 2023\n",
        "vendas_2021_opiniao = 1721  # Exemplo hipotético para 2021.\n",
        "vendas_2023_opiniao = 1906  # Exemplo hipotético para 2023.\n",
        "\n",
        "# Sem levar em consideração os fatores externos como pandemia e guerra na Ucrânia"
      ],
      "metadata": {
        "id": "UPZvYMFtKYee"
      },
      "execution_count": null,
      "outputs": []
    },
    {
      "cell_type": "markdown",
      "source": [
        "*   Nome:  Otávio Lira Neves\n",
        "*   RM: 552476\n",
        "*   Nome:  Lucas Matheus da Silva\n",
        "*   RM: 550466\n"
      ],
      "metadata": {
        "id": "Wi9_DVhq34pT"
      }
    }
  ]
}