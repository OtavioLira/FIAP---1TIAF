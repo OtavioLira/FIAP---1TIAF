{
 "cells": [
  {
   "attachments": {},
   "cell_type": "markdown",
   "metadata": {},
   "source": [
    "# Apresentação do Jupyter\n",
    "\n",
    "**Deixando em negrito**\n",
    "\n",
    "```\n",
    "def soma(n1: int, n2: int) -> int:\n",
    "    return n1 + n2\n",
    "```\n",
    "\n",
    "```python\n",
    "def soma(n1: int, n2: int) -> int:\n",
    "    return n1 + n2\n",
    "```"
   ]
  },
  {
   "attachments": {},
   "cell_type": "markdown",
   "metadata": {},
   "source": [
    "## Parâmetros Default - Subalgoritmos\n",
    "\n",
    "Este tipo de parâmetro serve para assumir um valor padrao no parâmetro, quando não definimos um.\n",
    "\n",
    "**Sintaxe:**\n",
    "```\n",
    "def nome_subalgoritmo (parametros = valor_default) -> tipo_retorno:\n",
    "    corpo_subalgoritmo\n",
    "    return valor\n",
    "```\n",
    "\n",
    "**Exemplo:**\n",
    "Este procedimento exibe uma saudação a partir do nome enviado por parâmetro:"
   ]
  },
  {
   "cell_type": "code",
   "execution_count": 8,
   "metadata": {},
   "outputs": [
    {
     "name": "stdout",
     "output_type": "stream",
     "text": [
      "Bom dia Usuário\n",
      "Boa tarde Edson\n",
      "Bom dia Usuário\n",
      "Bom dia Maria\n"
     ]
    }
   ],
   "source": [
    "def saudacao(mensagem: str = \"Bom dia\", nome: str = \"Usuário\") -> None:\n",
    "    print(f\"{mensagem} {nome}\")\n",
    "\n",
    "saudacao(\"Bom dia\")\n",
    "saudacao(\"Boa tarde\", \"Edson\")\n",
    "saudacao()\n",
    "saudacao(nome = \"Maria\")"
   ]
  },
  {
   "attachments": {},
   "cell_type": "markdown",
   "metadata": {},
   "source": [
    "**Exercício:**\n",
    "Fazer uma função que retorne o maior entre 3 numeros passados por parâmetro. Os valores padroes são 1, 2 e 3."
   ]
  },
  {
   "cell_type": "code",
   "execution_count": 10,
   "metadata": {},
   "outputs": [
    {
     "name": "stdout",
     "output_type": "stream",
     "text": [
      "9\n",
      "3\n",
      "56\n"
     ]
    }
   ],
   "source": [
    "def maior3n(n1: float = 1, n2: float = 2, n3: float = 3) -> float:\n",
    "    maior = n1\n",
    "    if n2 > maior:\n",
    "        maior = n2\n",
    "    if n3 > maior:\n",
    "        maior = n3\n",
    "    return maior\n",
    "\n",
    "print(maior3n(5,8,9))\n",
    "print(maior3n())\n",
    "print(maior3n(n2 = 56))"
   ]
  },
  {
   "attachments": {},
   "cell_type": "markdown",
   "metadata": {},
   "source": [
    "## Parâmetros do tipo *args\n",
    "O parâmetro do tipo *args permite que passemos um número não definido de parâmetros. <br>\n",
    "**Sintaxe:**\n",
    "```\n",
    "def nome_subalgoritmo (*args) -> tipo_retorno:\n",
    "    corpo_subalgoritmo\n",
    "    return retorno\n",
    "```"
   ]
  },
  {
   "cell_type": "code",
   "execution_count": 11,
   "metadata": {},
   "outputs": [
    {
     "name": "stdout",
     "output_type": "stream",
     "text": [
      "15\n"
     ]
    }
   ],
   "source": [
    "def soma_numeros(n1: float, n2: float) -> float:\n",
    "    return n1 + n2\n",
    "\n",
    "print(soma_numeros(6,9))"
   ]
  },
  {
   "attachments": {},
   "cell_type": "markdown",
   "metadata": {},
   "source": [
    "Utilizando *args"
   ]
  },
  {
   "cell_type": "code",
   "execution_count": 13,
   "metadata": {},
   "outputs": [
    {
     "name": "stdout",
     "output_type": "stream",
     "text": [
      "165\n",
      "56\n",
      "462\n"
     ]
    }
   ],
   "source": [
    "def soma_numeros2(*args) -> float: # O args passa a ser uma lista\n",
    "    soma = 0\n",
    "    for valor in args:\n",
    "        soma = soma + valor\n",
    "    return soma\n",
    "\n",
    "print(soma_numeros2(56, 76, 33))\n",
    "print(soma_numeros2(12, 44))\n",
    "print(soma_numeros2(66,87,44,32,78,44,67,44))"
   ]
  },
  {
   "attachments": {},
   "cell_type": "markdown",
   "metadata": {},
   "source": [
    "**Exercício:**\n",
    "Utilizando o parâmetro *args, faça uma função que calcule a média de N números."
   ]
  },
  {
   "cell_type": "code",
   "execution_count": 15,
   "metadata": {},
   "outputs": [
    {
     "name": "stdout",
     "output_type": "stream",
     "text": [
      "4.5\n",
      "5.166666666666667\n"
     ]
    }
   ],
   "source": [
    "def media_numeros(*args) -> float:\n",
    "    soma = 0\n",
    "    qtd = 0\n",
    "    for valor in args:\n",
    "        soma = soma + valor\n",
    "        qtd += 1\n",
    "    return soma / qtd\n",
    "\n",
    "print(media_numeros(4,5))\n",
    "print(media_numeros(4,5,6,2,5,9))"
   ]
  },
  {
   "attachments": {},
   "cell_type": "markdown",
   "metadata": {},
   "source": [
    "## Subalgoritmo Encadeado\n",
    "**Exemplo**: Fazer uma função que calcule a média dos checkpoints de um aluno da FIAP"
   ]
  },
  {
   "cell_type": "code",
   "execution_count": 17,
   "metadata": {},
   "outputs": [
    {
     "name": "stdout",
     "output_type": "stream",
     "text": [
      "5.5\n"
     ]
    }
   ],
   "source": [
    "# Função Primária\n",
    "def media_checkpoint(n1: float, n2: float, n3: float) -> float:\n",
    "    \n",
    "    # Função Secundária\n",
    "    def menor_valor(n1: float, n2: float, n3: float) -> float:\n",
    "        # Corpo Secundária\n",
    "        menor = n1\n",
    "        if n2 < menor:\n",
    "            menor = n2\n",
    "        if n3 < menor:\n",
    "            menor = n3\n",
    "        return menor\n",
    "    \n",
    "    # Corpo Primária\n",
    "    media = (n1 + n2 + n3 - menor_valor(n1, n2, n3)) / 2\n",
    "    return media\n",
    "\n",
    "#chamada da função\n",
    "print(media_checkpoint(4, 5, 6))"
   ]
  },
  {
   "attachments": {},
   "cell_type": "markdown",
   "metadata": {},
   "source": [
    "**Exercício:**\n",
    "Fazer uma função que calcule a média de 3 numeros utilizando o conceito de subalgoritmo primario e secundário."
   ]
  },
  {
   "attachments": {},
   "cell_type": "markdown",
   "metadata": {},
   "source": [
    "### Programa Principal"
   ]
  },
  {
   "cell_type": "code",
   "execution_count": 14,
   "metadata": {},
   "outputs": [
    {
     "name": "stdout",
     "output_type": "stream",
     "text": [
      "Bom dia Maria\n",
      "3\n",
      "15\n",
      "462\n"
     ]
    }
   ],
   "source": [
    "saudacao(nome = \"Maria\")\n",
    "print(maior3n())\n",
    "print(soma_numeros(6,9))\n",
    "print(soma_numeros2(66,87,44,32,78,44,67,44))"
   ]
  }
 ],
 "metadata": {
  "kernelspec": {
   "display_name": "Python 3",
   "language": "python",
   "name": "python3"
  },
  "language_info": {
   "codemirror_mode": {
    "name": "ipython",
    "version": 3
   },
   "file_extension": ".py",
   "mimetype": "text/x-python",
   "name": "python",
   "nbconvert_exporter": "python",
   "pygments_lexer": "ipython3",
   "version": "3.11.4"
  },
  "orig_nbformat": 4
 },
 "nbformat": 4,
 "nbformat_minor": 2
}
