{
 "cells": [
  {
   "cell_type": "markdown",
   "metadata": {},
   "source": [
    "Nome: Otávio Lira Neves RM:552476 Turma: 1TIAF"
   ]
  },
  {
   "cell_type": "markdown",
   "metadata": {},
   "source": [
    "# 1° Função\n",
    "Faça um subalgoritmo chamado converte_vogais_maiusculo(frase) que passe uma frase por\n",
    "parâmetro e retorne a mesma frase com SOMENTE as vogais maiúsculas"
   ]
  },
  {
   "cell_type": "code",
   "execution_count": 58,
   "metadata": {},
   "outputs": [
    {
     "name": "stdout",
     "output_type": "stream",
     "text": [
      "OtávIO O mElhOr dO mUndO\n"
     ]
    }
   ],
   "source": [
    "frase = \"Otávio o melhor do mundo\"\n",
    "def converte_vogais_maiusculo(frase: str) -> str:\n",
    "    frase_n = \"\"\n",
    "    for carac in frase:\n",
    "        if carac in [\"a\",\"e\",\"i\",\"o\",\"u\"]: # verificar as vogais (sem variação, como: à,á,ã,â)\n",
    "            frase_n += carac.upper() # se for vogal fica em maisculo\n",
    "        else:\n",
    "            frase_n += carac # copia a letra sem modificação\n",
    "    return frase_n\n",
    "print(converte_vogais_maiusculo(frase))"
   ]
  },
  {
   "cell_type": "markdown",
   "metadata": {},
   "source": [
    "# 2° Função\n",
    "Faça uma função chamada isfloat(valor) que passe um valor do tipo string por parâmetro e\n",
    "retorne True caso este valor represente um número float ou False caso não represente.\n"
   ]
  },
  {
   "cell_type": "code",
   "execution_count": 59,
   "metadata": {},
   "outputs": [],
   "source": [
    "def isfloat(valor: str) -> bool:\n",
    "    qtd_pontos = 0\n",
    "    if valor == \"\" or valor == \"-\":\n",
    "        return False\n",
    "\n",
    "    for i, c in enumerate(valor):\n",
    "        if not c.isnumeric():\n",
    "            if i == 0 and c == \"-\": # Para podermos lidar com valor negativo\n",
    "                continue  \n",
    "            if c == \".\": # Para verificar se é um numero quebrado\n",
    "                qtd_pontos +=1\n",
    "                if qtd_pontos > 1: # Apenas 1 ponto\n",
    "                    return False \n",
    "            return False\n",
    "    return True"
   ]
  },
  {
   "cell_type": "markdown",
   "metadata": {},
   "source": [
    "# Programa Principal"
   ]
  },
  {
   "cell_type": "code",
   "execution_count": 60,
   "metadata": {},
   "outputs": [
    {
     "name": "stdout",
     "output_type": "stream",
     "text": [
      "\n",
      "          0 - Sair\n",
      "          1 - Converte Vogais\n",
      "          2 - Verifica se é float\n",
      "          \n",
      "EstA é UmA FrAsE dE ExEmplO\n",
      "\n",
      "          0 - Sair\n",
      "          1 - Converte Vogais\n",
      "          2 - Verifica se é float\n",
      "          \n",
      "HEllO WOrld\n",
      "\n",
      "          0 - Sair\n",
      "          1 - Converte Vogais\n",
      "          2 - Verifica se é float\n",
      "          \n",
      "PrOgrAmAçãO PythOn\n",
      "\n",
      "          0 - Sair\n",
      "          1 - Converte Vogais\n",
      "          2 - Verifica se é float\n",
      "          \n",
      "AEIOU\n",
      "\n",
      "          0 - Sair\n",
      "          1 - Converte Vogais\n",
      "          2 - Verifica se é float\n",
      "          \n",
      "OtávIO O mElhOr dO mUndO\n",
      "\n",
      "          0 - Sair\n",
      "          1 - Converte Vogais\n",
      "          2 - Verifica se é float\n",
      "          \n",
      "\n",
      "\n",
      "          0 - Sair\n",
      "          1 - Converte Vogais\n",
      "          2 - Verifica se é float\n",
      "          \n",
      " \n",
      "\n",
      "          0 - Sair\n",
      "          1 - Converte Vogais\n",
      "          2 - Verifica se é float\n",
      "          \n"
     ]
    }
   ],
   "source": [
    "while True:\n",
    "    print(\"\"\"\n",
    "          0 - Sair\n",
    "          1 - Converte Vogais\n",
    "          2 - Verifica se é float\n",
    "          \"\"\")\n",
    "    op = int(input(\"Opção: \"))\n",
    "\n",
    "    match(op):\n",
    "        case 0:\n",
    "            break\n",
    "        case 1:\n",
    "            texto = input(\"Digite um texto: \")\n",
    "            print(converte_vogais_maiusculo(texto))\n",
    "        case 2:\n",
    "            valor = input(\"Digite um valor: \")\n",
    "            if isfloat(valor):\n",
    "                print(\"Este valor é float\")\n",
    "            else:\n",
    "                print(\"Este valor não é float\")"
   ]
  },
  {
   "cell_type": "markdown",
   "metadata": {},
   "source": [
    "# Tabela de testes\n",
    "## 1° função\n",
    "\"Esta é uma Frase de Exemplo\"\n",
    "\n",
    "\"Hello World\"\n",
    "\n",
    "\"Programação Python\"\n",
    "\n",
    "\"AEIOU\"\n",
    "\n",
    "\"Otávio o melhor do mundo\"\n",
    "\n",
    "\"\" e \" \"\n",
    "## 2° função\n",
    "123.45\n",
    "\n",
    "-12.34\n",
    "\n",
    "-0.123\n",
    "\n",
    "3.14159\n",
    "\n",
    "0.1.2\n",
    "\n",
    "123\n",
    "\n",
    "\"\"\n",
    "\n",
    "\"-\"\n",
    "\n",
    "\"-.123\""
   ]
  },
  {
   "cell_type": "markdown",
   "metadata": {},
   "source": []
  }
 ],
 "metadata": {
  "kernelspec": {
   "display_name": "Python 3",
   "language": "python",
   "name": "python3"
  },
  "language_info": {
   "codemirror_mode": {
    "name": "ipython",
    "version": 3
   },
   "file_extension": ".py",
   "mimetype": "text/x-python",
   "name": "python",
   "nbconvert_exporter": "python",
   "pygments_lexer": "ipython3",
   "version": "3.10.6"
  },
  "orig_nbformat": 4
 },
 "nbformat": 4,
 "nbformat_minor": 2
}
