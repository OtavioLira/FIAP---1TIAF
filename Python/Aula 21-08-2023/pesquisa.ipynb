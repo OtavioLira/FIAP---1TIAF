{
 "cells": [
  {
   "cell_type": "markdown",
   "metadata": {},
   "source": [
    "## Método de pesquisa sequencial\n",
    "Busca um elemento em uma lista até que encontre (ou não).<br>\n",
    "para executar este método a lista pode estar ordenada ou não.\n",
    "É um método de pesquisa lento com uma grande quantidade de dados."
   ]
  },
  {
   "cell_type": "code",
   "execution_count": 8,
   "metadata": {},
   "outputs": [
    {
     "name": "stdout",
     "output_type": "stream",
     "text": [
      "0 não está na lista\n"
     ]
    }
   ],
   "source": [
    "lista = [34, 23, 76, 87, 45, 56, 90, 12, 45, 12]\n",
    "item = int(input(\"Digite um numero: \"))\n",
    "\n",
    "def procurar(l: list, v: int) -> int:\n",
    "    for elem in l:\n",
    "        if elem == v:\n",
    "            return v\n",
    "\n",
    "if procurar(lista, item):\n",
    "    print(f\"{item} está na lista\")\n",
    "else:\n",
    "    print(f\"{item} não está na lista\")"
   ]
  },
  {
   "cell_type": "markdown",
   "metadata": {},
   "source": [
    "## Ordenação da lista\n",
    "Este metodo de ordenação de lista, trava o elemento com o índice menor e pergunta se os subsequentes são maiores. se sim, troca os elementos. Trava o próximo e segue a mesma mecânica."
   ]
  },
  {
   "cell_type": "code",
   "execution_count": 9,
   "metadata": {},
   "outputs": [
    {
     "name": "stdout",
     "output_type": "stream",
     "text": [
      "Lista desordenada: [34, 23, 76, 87, 45, 56, 90, 12, 45, 12]\n",
      "Lista ordenada: [12, 12, 23, 34, 45, 45, 56, 76, 87, 90]\n"
     ]
    }
   ],
   "source": [
    "# ------ Metodo de pesquisa ordenada\n",
    "\n",
    "lista = [34, 23, 76, 87, 45, 56, 90, 12, 45, 12]\n",
    "print(f\"Lista desordenada: {lista}\")\n",
    "\n",
    "def ordernarLista(l: list) -> list:\n",
    "    for trava in range(0, len(l) - 1, 1):\n",
    "        for prox in range(trava + 1, len(l), 1):\n",
    "            if l[trava] > l[prox]:\n",
    "                salvar = l[trava]\n",
    "                l[trava] = l[prox]\n",
    "                l[prox] = salvar\n",
    "    return l\n",
    "lista = ordernarLista(lista)\n",
    "print(f\"Lista ordenada: {lista}\")"
   ]
  },
  {
   "cell_type": "markdown",
   "metadata": {},
   "source": []
  }
 ],
 "metadata": {
  "kernelspec": {
   "display_name": "Python 3",
   "language": "python",
   "name": "python3"
  },
  "language_info": {
   "codemirror_mode": {
    "name": "ipython",
    "version": 3
   },
   "file_extension": ".py",
   "mimetype": "text/x-python",
   "name": "python",
   "nbconvert_exporter": "python",
   "pygments_lexer": "ipython3",
   "version": "3.10.6"
  },
  "orig_nbformat": 4
 },
 "nbformat": 4,
 "nbformat_minor": 2
}
