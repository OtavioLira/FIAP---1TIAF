{
 "cells": [
  {
   "attachments": {},
   "cell_type": "markdown",
   "metadata": {},
   "source": [
    "# Correção dos exercicios da revisão\n",
    "\n",
    "### EX1\n",
    "1. Fazer um procedimento chamado 'preencher_lista(l)' que preenche uma lista passada por parâmetro at que seja digitado '.' (ponto)\n"
   ]
  },
  {
   "cell_type": "code",
   "execution_count": 288,
   "metadata": {},
   "outputs": [],
   "source": [
    "def preencher_lista(l: list) -> None:\n",
    "    while True:\n",
    "        elem = input(\"Digite um elemento: \")\n",
    "        if elem != \".\":\n",
    "            l.append(elem)\n",
    "        else:\n",
    "            break"
   ]
  },
  {
   "attachments": {},
   "cell_type": "markdown",
   "metadata": {},
   "source": [
    "2. Fazer um procedimento chamado 'exibe_list(l)' que exibe os elementos da lista passada por parâmetro  "
   ]
  },
  {
   "cell_type": "code",
   "execution_count": 289,
   "metadata": {},
   "outputs": [],
   "source": [
    "def exibe_lista(l: list) -> None:\n",
    "    for posicao, elem in enumerate(l):\n",
    "        print(f\"Elemento {posicao}: {elem}\")"
   ]
  },
  {
   "attachments": {},
   "cell_type": "markdown",
   "metadata": {},
   "source": [
    "3. Sabemos que a função 'len()' do Python retorna a quantidade de elementos de uma lista. Faça \n",
    "uma função chamada 'conta_elementos(l)' que tenha o mesmo efeito.\n",
    "  "
   ]
  },
  {
   "cell_type": "code",
   "execution_count": 290,
   "metadata": {},
   "outputs": [],
   "source": [
    "def conta_elementos(l: list) -> int:\n",
    "    qtd = 0\n",
    "    for elem in l:\n",
    "        qtd = qtd + 1\n",
    "    return qtd"
   ]
  },
  {
   "attachments": {},
   "cell_type": "markdown",
   "metadata": {},
   "source": [
    "4. Sabemos que a função 'index()' do Python retorna o índice do elemento passado por parâmetro. Faça\n",
    "uma função parecida chamada 'retorna_indice(elemento, lista)' com a melhoria de retornar -1 caso o elemento não seja encontrados."
   ]
  },
  {
   "cell_type": "code",
   "execution_count": 291,
   "metadata": {},
   "outputs": [
    {
     "name": "stdout",
     "output_type": "stream",
     "text": [
      "-1\n"
     ]
    }
   ],
   "source": [
    "#    0,1,2,3 - indices\n",
    "x = [3,9,4,2] # elementos\n",
    "\n",
    "def retorna_indice(valor: int,l: list) -> int:\n",
    "    for indice, elem in enumerate(l):\n",
    "        if elem == valor:\n",
    "            return indice\n",
    "    return -1\n",
    "\n",
    "print(retorna_indice(0, x))"
   ]
  },
  {
   "attachments": {},
   "cell_type": "markdown",
   "metadata": {},
   "source": [
    "5. Sabemos que a função 'count()' do Python retornar a quantidade de um elemento especifico. Faça uma função chamada 'busca_elemento(l, elemento)' que tenha o mesmo efeito. "
   ]
  },
  {
   "cell_type": "code",
   "execution_count": 292,
   "metadata": {},
   "outputs": [],
   "source": [
    "def busca_elemento(valor: int, l: list) -> int:\n",
    "    qtd = 0\n",
    "    for elem in l:\n",
    "        if elem == valor:\n",
    "            qtd += 1\n",
    "    return qtd "
   ]
  },
  {
   "attachments": {},
   "cell_type": "markdown",
   "metadata": {},
   "source": [
    "6. Faça uma função chamada 'conta_inteiro(l)' que conte elementos inteiros que existem em uma lista"
   ]
  },
  {
   "cell_type": "code",
   "execution_count": 293,
   "metadata": {},
   "outputs": [],
   "source": [
    "def conta_inteiro(l: list) -> list:\n",
    "    qtd = 0\n",
    "    for elem in l:\n",
    "        if type(elem) == int:\n",
    "            qtd += 1\n",
    "        elif type(elem) == str:\n",
    "            if elem.isnumeric():    \n",
    "                qtd += 1\n",
    "    return qtd"
   ]
  },
  {
   "cell_type": "markdown",
   "metadata": {},
   "source": [
    "7. Fazer uma função chamada 'conta_boolean(l)' que conte quantos elementos lógicos existem em uma lista."
   ]
  },
  {
   "cell_type": "code",
   "execution_count": 294,
   "metadata": {},
   "outputs": [],
   "source": [
    "def conta_boolean(l: list) -> int:\n",
    "    qtd = 0\n",
    "    for elem in l:\n",
    "        if isinstance(elem, bool) or type(elem) == bool:\n",
    "            qtd +=1\n",
    "    return qtd"
   ]
  },
  {
   "cell_type": "markdown",
   "metadata": {},
   "source": [
    "8. Fazer uma função chamada 'conta_float(l)' que conte quantos elementos float existem em uma lista."
   ]
  },
  {
   "cell_type": "code",
   "execution_count": 295,
   "metadata": {},
   "outputs": [],
   "source": [
    "def conta_float(l: list) -> int:\n",
    "    qtd = 0\n",
    "    for elem in l:\n",
    "        if isinstance(elem, float) or type(elem) == float:\n",
    "            qtd +=1\n",
    "    return qtd"
   ]
  },
  {
   "cell_type": "markdown",
   "metadata": {},
   "source": [
    "9. Fazer uma procedimento chamado 'copia_int(lista1, lista2)' que verifique na lista1 se um dado é inteiro e copie para a lista2 este dado convertido em inteiro"
   ]
  },
  {
   "cell_type": "code",
   "execution_count": 296,
   "metadata": {},
   "outputs": [],
   "source": [
    "def copia_int(lista1: list, lista2: list) -> list:\n",
    "    for elem in lista1:\n",
    "        if type(elem) == int:\n",
    "            lista2.append(elem)\n",
    "        elif type(elem) == str:    \n",
    "            if elem.isnumeric():\n",
    "                lista2.append(int(elem))\n",
    "    return lista2"
   ]
  },
  {
   "attachments": {},
   "cell_type": "markdown",
   "metadata": {},
   "source": [
    "# Programa Principal"
   ]
  },
  {
   "cell_type": "code",
   "execution_count": 297,
   "metadata": {},
   "outputs": [
    {
     "name": "stdout",
     "output_type": "stream",
     "text": [
      "\n",
      "        0 - Sair\n",
      "        1 - Preencher Lista\n",
      "        2 - Exibir Lista\n",
      "        3 - Contar Elementos\n",
      "        4 - Retorna indice\n",
      "        5 - Contar um elemento específico\n",
      "        6 - Contar numeros inteiros\n",
      "        7 - Contar elementos logicos\n",
      "        8 - Contar elementos floats\n",
      "        9 - Copiar Lista\n",
      "    \n"
     ]
    },
    {
     "name": "stdout",
     "output_type": "stream",
     "text": [
      "Lista copiada com apenas os inteiros: [1, 2, 3, 5]\n",
      "\n",
      "        0 - Sair\n",
      "        1 - Preencher Lista\n",
      "        2 - Exibir Lista\n",
      "        3 - Contar Elementos\n",
      "        4 - Retorna indice\n",
      "        5 - Contar um elemento específico\n",
      "        6 - Contar numeros inteiros\n",
      "        7 - Contar elementos logicos\n",
      "        8 - Contar elementos floats\n",
      "        9 - Copiar Lista\n",
      "    \n"
     ]
    }
   ],
   "source": [
    "import os\n",
    "lista = [\"1\", \"2\", \"3\", \"A\", 5, -7.8, False, True]\n",
    "copiaLista = list()\n",
    "while True:\n",
    "    os.system(\"clear\")\n",
    "    print(\"\"\"\n",
    "        0 - Sair\n",
    "        1 - Preencher Lista\n",
    "        2 - Exibir Lista\n",
    "        3 - Contar Elementos\n",
    "        4 - Retorna indice\n",
    "        5 - Contar um elemento específico\n",
    "        6 - Contar numeros inteiros\n",
    "        7 - Contar elementos logicos\n",
    "        8 - Contar elementos floats\n",
    "        9 - Copiar Lista\n",
    "    \"\"\")\n",
    "    item = int(input(\">\"))\n",
    "    match(item):\n",
    "        case 0:\n",
    "            break\n",
    "        case 1:\n",
    "            lista.clear()\n",
    "            preencher_lista(lista)\n",
    "        case 2:\n",
    "            exibe_lista(lista)\n",
    "        case 3:\n",
    "            print(f\"Quantidade de elementos: {conta_elementos(lista)}\")\n",
    "        case 4:\n",
    "            x = input(\"Digite o valor da busca: \")\n",
    "            ind = retorna_indice(x, lista)\n",
    "            if ind == -1:\n",
    "                print(f\"O elemento {x} não existe na lista\")\n",
    "            else:\n",
    "                print(f\"A posição do valor {x} é {ind}\")\n",
    "        case 5:\n",
    "            x = input(\"Digite o valor da busca: \")\n",
    "            qtd = busca_elemento(x, lista)\n",
    "            print(f\"Quantidade de elementos {x} = {qtd}\")\n",
    "        case 6:\n",
    "            print(conta_inteiro(lista))\n",
    "        case 7:\n",
    "            print(conta_boolean(lista))\n",
    "        case 8:\n",
    "            print(conta_float(lista))\n",
    "        case 9:\n",
    "            print(f\"Lista copiada com apenas os inteiros: {copia_int(lista, copiaLista)}\")\n",
    "            \n"
   ]
  }
 ],
 "metadata": {
  "kernelspec": {
   "display_name": "Python 3",
   "language": "python",
   "name": "python3"
  },
  "language_info": {
   "codemirror_mode": {
    "name": "ipython",
    "version": 3
   },
   "file_extension": ".py",
   "mimetype": "text/x-python",
   "name": "python",
   "nbconvert_exporter": "python",
   "pygments_lexer": "ipython3",
   "version": "3.11.3"
  },
  "orig_nbformat": 4
 },
 "nbformat": 4,
 "nbformat_minor": 2
}
