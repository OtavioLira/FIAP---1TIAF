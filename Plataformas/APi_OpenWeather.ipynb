{
  "nbformat": 4,
  "nbformat_minor": 0,
  "metadata": {
    "colab": {
      "provenance": [],
      "authorship_tag": "ABX9TyNqgesa1UXQ4d2jtXTAcSHJ",
      "include_colab_link": true
    },
    "kernelspec": {
      "name": "python3",
      "display_name": "Python 3"
    },
    "language_info": {
      "name": "python"
    }
  },
  "cells": [
    {
      "cell_type": "markdown",
      "metadata": {
        "id": "view-in-github",
        "colab_type": "text"
      },
      "source": [
        "<a href=\"https://colab.research.google.com/github/OtavioLira/FIAP-1TIAF/blob/main/APi_OpenWeather.ipynb\" target=\"_parent\"><img src=\"https://colab.research.google.com/assets/colab-badge.svg\" alt=\"Open In Colab\"/></a>"
      ]
    },
    {
      "cell_type": "code",
      "source": [
        "nome = str(input(\"Insira seu nome: \"))\n",
        "rm = int(input(\"Insira seu RM: \"))"
      ],
      "metadata": {
        "id": "RMf3DBfWxae1",
        "colab": {
          "base_uri": "https://localhost:8080/"
        },
        "outputId": "30154d0a-3ff1-48ca-9aa0-31e74b1421e8"
      },
      "execution_count": 5,
      "outputs": [
        {
          "name": "stdout",
          "output_type": "stream",
          "text": [
            "Insira seu nome: Otavio Lira Neves\n",
            "Insira seu RM: 552476\n"
          ]
        }
      ]
    },
    {
      "cell_type": "code",
      "source": [
        "import requests"
      ],
      "metadata": {
        "id": "sjcL-Day0yC2"
      },
      "execution_count": 3,
      "outputs": []
    },
    {
      "cell_type": "code",
      "execution_count": 7,
      "metadata": {
        "id": "3_M8GMm5wtXt"
      },
      "outputs": [],
      "source": [
        "API_KEY = \"3f53fb4d011ed142bd1d92f8df58512a\"\n",
        "cidade = \"Olímpia\"\n",
        "endpoint = f\"https://api.openweathermap.org/data/2.5/weather?q={cidade}&appid={API_KEY}\"\n",
        "\n",
        "requisicao = requests.get(endpoint)\n",
        "resposta = requisicao.json()"
      ]
    },
    {
      "cell_type": "code",
      "source": [
        "desc = resposta[\"weather\"][0][\"description\"]\n",
        "temp = resposta[\"main\"][\"temp\"]\n",
        "print(f\"Clima: {desc} \\nTemperatura: {temp}\")"
      ],
      "metadata": {
        "colab": {
          "base_uri": "https://localhost:8080/"
        },
        "id": "G7Bwu1nM45hW",
        "outputId": "6f6f884b-7901-4800-ca41-4228ade52ae4"
      },
      "execution_count": 12,
      "outputs": [
        {
          "output_type": "stream",
          "name": "stdout",
          "text": [
            "Clima: clear sky \n",
            "Temperatura: 300.56\n"
          ]
        }
      ]
    },
    {
      "cell_type": "code",
      "source": [
        "temp_c = float(temp) - 273.15\n",
        "print(f\"Clima: {desc} \\nTemperatura: {round(temp_c,2)}°C\")\n",
        " "
      ],
      "metadata": {
        "colab": {
          "base_uri": "https://localhost:8080/"
        },
        "id": "qQ8ZRl2X6w-U",
        "outputId": "dc38ef99-8890-44b4-e38f-338dc60963a8"
      },
      "execution_count": 18,
      "outputs": [
        {
          "output_type": "stream",
          "name": "stdout",
          "text": [
            "Clima: clear sky \n",
            "Temperatura: 27.41°C\n"
          ]
        }
      ]
    }
  ]
}