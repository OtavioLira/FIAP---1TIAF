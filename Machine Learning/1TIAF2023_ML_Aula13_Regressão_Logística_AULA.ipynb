{
  "cells": [
    {
      "cell_type": "markdown",
      "metadata": {
        "id": "5T9dvDuMEf2r"
      },
      "source": [
        "FIAP - Tecnólogo em Sistema para Internet\n",
        "\n",
        "# Aula 13 - Regressão Logística\n",
        "\n",
        "Base: https://www.kaggle.com/uciml/pima-indians-diabetes-database"
      ]
    },
    {
      "cell_type": "code",
      "execution_count": null,
      "metadata": {
        "id": "Uepfh4TkEf2y"
      },
      "outputs": [],
      "source": [
        "# Imports pertinentes\n",
        "import pandas as pd\n",
        "from sklearn.model_selection import train_test_split\n",
        "from sklearn.linear_model import LogisticRegression\n",
        "from sklearn import metrics"
      ]
    },
    {
      "cell_type": "code",
      "execution_count": null,
      "metadata": {
        "id": "GWG9LfgNEf21"
      },
      "outputs": [],
      "source": [
        "df = pd.read_csv(r\"DATASETS\\diabetes.csv\")\n",
        "\n"
      ]
    },
    {
      "cell_type": "code",
      "execution_count": null,
      "metadata": {
        "id": "V5kamWVPEf23"
      },
      "outputs": [],
      "source": []
    },
    {
      "cell_type": "code",
      "execution_count": null,
      "metadata": {
        "id": "lOQeokwEEf24"
      },
      "outputs": [],
      "source": []
    },
    {
      "cell_type": "code",
      "execution_count": null,
      "metadata": {
        "id": "fgw99N1BEf24"
      },
      "outputs": [],
      "source": []
    },
    {
      "cell_type": "code",
      "execution_count": null,
      "metadata": {
        "id": "A0a3ZraQEf25"
      },
      "outputs": [],
      "source": [
        "# Divisão de DADOS e LABELS\n"
      ]
    },
    {
      "cell_type": "code",
      "execution_count": null,
      "metadata": {
        "id": "xA0Feqx8Ef25"
      },
      "outputs": [],
      "source": [
        "# Divisão de TREINO e TESTE\n"
      ]
    },
    {
      "cell_type": "code",
      "execution_count": null,
      "metadata": {
        "id": "ieqGhvB6Ef26"
      },
      "outputs": [],
      "source": [
        "# Criação, treinamento e avaliação do modelo\n"
      ]
    },
    {
      "cell_type": "code",
      "execution_count": null,
      "metadata": {
        "id": "6iXdyeFpEf26"
      },
      "outputs": [],
      "source": [
        "# Algumas métricas\n"
      ]
    },
    {
      "cell_type": "code",
      "execution_count": null,
      "metadata": {
        "id": "h20shVgbEf27"
      },
      "outputs": [],
      "source": []
    },
    {
      "cell_type": "code",
      "execution_count": null,
      "metadata": {
        "id": "8GXI9gYfEf28"
      },
      "outputs": [],
      "source": []
    },
    {
      "cell_type": "code",
      "execution_count": null,
      "metadata": {
        "id": "_Jh4py_TEf29"
      },
      "outputs": [],
      "source": []
    },
    {
      "cell_type": "markdown",
      "metadata": {
        "id": "RTVdZxtQEf29"
      },
      "source": [
        "## Exercício!\n",
        "\n",
        "Aplique a regressão logísica no dataset [Breast Cancer Wisconsin Dataset](https://archive.ics.uci.edu/ml/datasets/Breast+Cancer+Wisconsin+%28Diagnostic%29), o qual contém dados de câncer de mama obtidos nos hospitais da Universidade de Wisconsin. Para facilitar, baixe os dados do [Kaggle].(https://www.kaggle.com/uciml/breast-cancer-wisconsin-data)\n",
        "\n",
        "Sua missão é descobrir para as features dadas se o tumor é **malígno** ou **benígno**. Apresente as métricas pertinentes e as analise.\n",
        "\n",
        "Dez atributos de valor real são calculados para cada núcleo da célula:\n",
        "\n",
        "    a) radius (mean of distances from center to points on the perimeter)\n",
        "    b) texture (standard deviation of gray-scale values)\n",
        "    c) perimeter\n",
        "    d) area\n",
        "    e) smoothness (local variation in radius lengths)\n",
        "    f) compactness (perimeter^2 / area - 1.0)\n",
        "    g) concavity (severity of concave portions of the contour)\n",
        "    h) concave points (number of concave portions of the contour)\n",
        "    i) symmetry\n",
        "    j) fractal dimension (\"coastline approximation\" - 1)\n"
      ]
    },
    {
      "cell_type": "code",
      "execution_count": null,
      "metadata": {
        "id": "HOsP4IoBEf2-"
      },
      "outputs": [],
      "source": []
    },
    {
      "cell_type": "code",
      "execution_count": null,
      "metadata": {
        "id": "qRvKZ4INEf2-"
      },
      "outputs": [],
      "source": []
    },
    {
      "cell_type": "code",
      "execution_count": null,
      "metadata": {
        "id": "TeYr2efQEf2-"
      },
      "outputs": [],
      "source": []
    },
    {
      "cell_type": "code",
      "execution_count": null,
      "metadata": {
        "id": "dPzST6GzEf2-"
      },
      "outputs": [],
      "source": []
    }
  ],
  "metadata": {
    "kernelspec": {
      "display_name": "Python 3",
      "language": "python",
      "name": "python3"
    },
    "language_info": {
      "codemirror_mode": {
        "name": "ipython",
        "version": 3
      },
      "file_extension": ".py",
      "mimetype": "text/x-python",
      "name": "python",
      "nbconvert_exporter": "python",
      "pygments_lexer": "ipython3",
      "version": "3.7.3"
    },
    "colab": {
      "provenance": []
    }
  },
  "nbformat": 4,
  "nbformat_minor": 0
}